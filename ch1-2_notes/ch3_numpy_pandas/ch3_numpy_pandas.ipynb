{
  "cells": [
    {
      "cell_type": "markdown",
      "metadata": {
        "id": "view-in-github",
        "colab_type": "text"
      },
      "source": [
        "<a href=\"https://colab.research.google.com/github/Riyasingh22600/ml-fundamentals-assignment/blob/main/ch1-2_notes/ch3_numpy_pandas/ch3_numpy_pandas.ipynb\" target=\"_parent\"><img src=\"https://colab.research.google.com/assets/colab-badge.svg\" alt=\"Open In Colab\"/></a>"
      ]
    },
    {
      "cell_type": "markdown",
      "id": "413d392d",
      "metadata": {
        "id": "413d392d"
      },
      "source": [
        "# Chapter 3: NumPy & Pandas\n",
        "\n",
        "---"
      ]
    },
    {
      "cell_type": "markdown",
      "source": [],
      "metadata": {
        "id": "6NzZhgsaU3F2"
      },
      "id": "6NzZhgsaU3F2"
    },
    {
      "cell_type": "markdown",
      "source": [
        "# Chapter 3 – NumPy & Pandas\n",
        "\n",
        "## 3.1 Introduction to NumPy\n",
        "\n"
      ],
      "metadata": {
        "id": "ZOqTBAolU7JL"
      },
      "id": "ZOqTBAolU7JL"
    },
    {
      "cell_type": "code",
      "source": [
        "# --- Install (only in Colab, skip if local Jupyter) ---\n",
        "# !pip install numpy pandas matplotlib seaborn scikit-learn\n",
        "\n",
        "# --- Imports ---\n",
        "import numpy as np\n",
        "import pandas as pd\n",
        "import matplotlib.pyplot as plt\n",
        "\n",
        "# --- Creating arrays ---\n",
        "arr_1d = np.array([1, 2, 3, 4, 5])\n",
        "arr_2d = np.array([[1, 2, 3], [4, 5, 6]])\n",
        "\n",
        "print(\"1D Array:\", arr_1d)\n",
        "print(\"2D Array:\\n\", arr_2d)\n",
        "\n",
        "# --- Array properties ---\n",
        "print(\"Shape of 2D array:\", arr_2d.shape)\n",
        "print(\"Data type:\", arr_1d.dtype)\n",
        "print(\"Number of dimensions:\", arr_2d.ndim)\n",
        "\n",
        "# --- Mathematical operations ---\n",
        "data = np.array([10, 20, 30, 40, 50])\n",
        "print(\"Mean:\", np.mean(data))\n",
        "print(\"Standard deviation:\", np.std(data))\n",
        "print(\"Sum:\", np.sum(data))\n",
        "\n",
        "# --- Array creation functions ---\n",
        "zeros = np.zeros((3, 4))\n",
        "ones = np.ones((2, 3))\n",
        "random_array = np.random.rand(3, 3)\n",
        "\n",
        "print(\"Zeros array:\\n\", zeros)\n",
        "print(\"Ones array:\\n\", ones)\n",
        "print(\"Random array:\\n\", random_array)\n",
        "\n",
        "# --- Array indexing and slicing ---\n",
        "arr = np.array([0, 1, 2, 3, 4, 5, 6, 7, 8, 9])\n",
        "print(\"Elements 2 to 5:\", arr[2:6])\n",
        "print(\"Every second element:\", arr[::2])\n",
        "print(\"Elements greater than 5:\", arr[arr > 5])\n",
        "\n",
        "# --- Matrix operations ---\n",
        "matrix_a = np.array([[1, 2], [3, 4]])\n",
        "matrix_b = np.array([[5, 6], [7, 8]])\n",
        "\n",
        "print(\"Matrix multiplication:\\n\", np.dot(matrix_a, matrix_b))\n",
        "print(\"Element-wise multiplication:\\n\", matrix_a * matrix_b)\n"
      ],
      "metadata": {
        "id": "x9sQpnqqWO1u",
        "outputId": "1830f8e6-aeae-4b14-a167-7a002a83037a",
        "colab": {
          "base_uri": "https://localhost:8080/"
        }
      },
      "id": "x9sQpnqqWO1u",
      "execution_count": 6,
      "outputs": [
        {
          "output_type": "stream",
          "name": "stdout",
          "text": [
            "1D Array: [1 2 3 4 5]\n",
            "2D Array:\n",
            " [[1 2 3]\n",
            " [4 5 6]]\n",
            "Shape of 2D array: (2, 3)\n",
            "Data type: int64\n",
            "Number of dimensions: 2\n",
            "Mean: 30.0\n",
            "Standard deviation: 14.142135623730951\n",
            "Sum: 150\n",
            "Zeros array:\n",
            " [[0. 0. 0. 0.]\n",
            " [0. 0. 0. 0.]\n",
            " [0. 0. 0. 0.]]\n",
            "Ones array:\n",
            " [[1. 1. 1.]\n",
            " [1. 1. 1.]]\n",
            "Random array:\n",
            " [[0.51994795 0.76099953 0.89021778]\n",
            " [0.89879658 0.10933903 0.10570493]\n",
            " [0.46751723 0.23140152 0.10510482]]\n",
            "Elements 2 to 5: [2 3 4 5]\n",
            "Every second element: [0 2 4 6 8]\n",
            "Elements greater than 5: [6 7 8 9]\n",
            "Matrix multiplication:\n",
            " [[19 22]\n",
            " [43 50]]\n",
            "Element-wise multiplication:\n",
            " [[ 5 12]\n",
            " [21 32]]\n"
          ]
        }
      ]
    },
    {
      "cell_type": "markdown",
      "source": [
        "\n",
        "## 3.1 Introduction to pandas\n",
        "\n"
      ],
      "metadata": {
        "id": "Ta58ckg-4Hn3"
      },
      "id": "Ta58ckg-4Hn3"
    },
    {
      "cell_type": "code",
      "source": [
        "import pandas as pd\n",
        "import numpy as np\n",
        "\n",
        "# Creating DataFrame\n",
        "data = {\n",
        "    'Name': ['Alice', 'Bob', 'Charlie', 'Diana', 'Eve'],\n",
        "    'Age': [25, 30, 35, 28, 32],\n",
        "    'Salary': [50000, 60000, 70000, 55000, 65000],\n",
        "    'Department': ['HR', 'IT', 'Finance', 'HR', 'IT']\n",
        "}\n",
        "df = pd.DataFrame(data)\n",
        "print(\"DataFrame:\\n\", df)\n",
        "\n",
        "# Basic DataFrame operations\n",
        "print(\"\\nDataFrame info:\")\n",
        "print(df.info())\n",
        "print(\"\\nBasic statistics:\")\n",
        "print(df.describe())\n",
        "\n",
        "# Data selection and filtering\n",
        "print(\"\\nNames only:\\n\", df['Name'])\n",
        "print(\"\\nEmployees older than 30:\\n\", df[df['Age'] > 30])\n",
        "print(\"\\nIT department employees:\\n\", df[df['Department'] == 'IT'])\n",
        "\n",
        "# Data manipulation\n",
        "df['Bonus'] = df['Salary'] * 0.1  # Add new column\n",
        "df_sorted = df.sort_values('Salary', ascending=False)\n",
        "print(\"\\nDataFrame with bonus column (sorted by Salary):\\n\", df_sorted)\n",
        "\n",
        "# Grouping and aggregation\n",
        "dept_summary = df.groupby('Department').agg({\n",
        "    'Age': 'mean',\n",
        "    'Salary': ['mean', 'max', 'min']\n",
        "})\n",
        "print(\"\\nDepartment summary:\\n\", dept_summary)\n",
        "\n",
        "# Data cleaning examples\n",
        "# Handle missing values\n",
        "df_with_missing = df.copy()\n",
        "df_with_missing.loc[2, 'Age'] = np.nan\n",
        "print(\"\\nData with missing values:\\n\", df_with_missing)\n",
        "print(\"\\nAfter filling missing values:\\n\", df_with_missing.fillna(df_with_missing.mean(numeric_only=True)))\n",
        "\n",
        "# Remove duplicates\n",
        "df_with_duplicates = pd.concat([df, df.iloc[:2]], ignore_index=True)\n",
        "print(\"\\nData with duplicates:\\n\", df_with_duplicates)\n",
        "print(\"\\nAfter removing duplicates:\\n\", df_with_duplicates.drop_duplicates())\n"
      ],
      "metadata": {
        "colab": {
          "base_uri": "https://localhost:8080/"
        },
        "id": "G8eQmz015agG",
        "outputId": "956dbdf4-727e-456b-c047-fa0364ff69b5"
      },
      "id": "G8eQmz015agG",
      "execution_count": 7,
      "outputs": [
        {
          "output_type": "stream",
          "name": "stdout",
          "text": [
            "DataFrame:\n",
            "       Name  Age  Salary Department\n",
            "0    Alice   25   50000         HR\n",
            "1      Bob   30   60000         IT\n",
            "2  Charlie   35   70000    Finance\n",
            "3    Diana   28   55000         HR\n",
            "4      Eve   32   65000         IT\n",
            "\n",
            "DataFrame info:\n",
            "<class 'pandas.core.frame.DataFrame'>\n",
            "RangeIndex: 5 entries, 0 to 4\n",
            "Data columns (total 4 columns):\n",
            " #   Column      Non-Null Count  Dtype \n",
            "---  ------      --------------  ----- \n",
            " 0   Name        5 non-null      object\n",
            " 1   Age         5 non-null      int64 \n",
            " 2   Salary      5 non-null      int64 \n",
            " 3   Department  5 non-null      object\n",
            "dtypes: int64(2), object(2)\n",
            "memory usage: 292.0+ bytes\n",
            "None\n",
            "\n",
            "Basic statistics:\n",
            "             Age       Salary\n",
            "count   5.000000      5.00000\n",
            "mean   30.000000  60000.00000\n",
            "std     3.807887   7905.69415\n",
            "min    25.000000  50000.00000\n",
            "25%    28.000000  55000.00000\n",
            "50%    30.000000  60000.00000\n",
            "75%    32.000000  65000.00000\n",
            "max    35.000000  70000.00000\n",
            "\n",
            "Names only:\n",
            " 0      Alice\n",
            "1        Bob\n",
            "2    Charlie\n",
            "3      Diana\n",
            "4        Eve\n",
            "Name: Name, dtype: object\n",
            "\n",
            "Employees older than 30:\n",
            "       Name  Age  Salary Department\n",
            "2  Charlie   35   70000    Finance\n",
            "4      Eve   32   65000         IT\n",
            "\n",
            "IT department employees:\n",
            "   Name  Age  Salary Department\n",
            "1  Bob   30   60000         IT\n",
            "4  Eve   32   65000         IT\n",
            "\n",
            "DataFrame with bonus column (sorted by Salary):\n",
            "       Name  Age  Salary Department   Bonus\n",
            "2  Charlie   35   70000    Finance  7000.0\n",
            "4      Eve   32   65000         IT  6500.0\n",
            "1      Bob   30   60000         IT  6000.0\n",
            "3    Diana   28   55000         HR  5500.0\n",
            "0    Alice   25   50000         HR  5000.0\n",
            "\n",
            "Department summary:\n",
            "              Age   Salary              \n",
            "            mean     mean    max    min\n",
            "Department                             \n",
            "Finance     35.0  70000.0  70000  70000\n",
            "HR          26.5  52500.0  55000  50000\n",
            "IT          31.0  62500.0  65000  60000\n",
            "\n",
            "Data with missing values:\n",
            "       Name   Age  Salary Department   Bonus\n",
            "0    Alice  25.0   50000         HR  5000.0\n",
            "1      Bob  30.0   60000         IT  6000.0\n",
            "2  Charlie   NaN   70000    Finance  7000.0\n",
            "3    Diana  28.0   55000         HR  5500.0\n",
            "4      Eve  32.0   65000         IT  6500.0\n",
            "\n",
            "After filling missing values:\n",
            "       Name    Age  Salary Department   Bonus\n",
            "0    Alice  25.00   50000         HR  5000.0\n",
            "1      Bob  30.00   60000         IT  6000.0\n",
            "2  Charlie  28.75   70000    Finance  7000.0\n",
            "3    Diana  28.00   55000         HR  5500.0\n",
            "4      Eve  32.00   65000         IT  6500.0\n",
            "\n",
            "Data with duplicates:\n",
            "       Name  Age  Salary Department   Bonus\n",
            "0    Alice   25   50000         HR  5000.0\n",
            "1      Bob   30   60000         IT  6000.0\n",
            "2  Charlie   35   70000    Finance  7000.0\n",
            "3    Diana   28   55000         HR  5500.0\n",
            "4      Eve   32   65000         IT  6500.0\n",
            "5    Alice   25   50000         HR  5000.0\n",
            "6      Bob   30   60000         IT  6000.0\n",
            "\n",
            "After removing duplicates:\n",
            "       Name  Age  Salary Department   Bonus\n",
            "0    Alice   25   50000         HR  5000.0\n",
            "1      Bob   30   60000         IT  6000.0\n",
            "2  Charlie   35   70000    Finance  7000.0\n",
            "3    Diana   28   55000         HR  5500.0\n",
            "4      Eve   32   65000         IT  6500.0\n"
          ]
        }
      ]
    },
    {
      "cell_type": "markdown",
      "source": [
        "# NumPy and Pandas Integration Example\n"
      ],
      "metadata": {
        "id": "OeAHtOCD-I27"
      },
      "id": "OeAHtOCD-I27"
    },
    {
      "cell_type": "code",
      "source": [
        "import numpy as np\n",
        "import pandas as pd\n",
        "\n",
        "# Sample DataFrame\n",
        "data = {\n",
        "    'Name': ['Alice', 'Bob', 'Charlie', 'Diana', 'Eve'],\n",
        "    'Age': [25, 30, 35, 28, 32],\n",
        "    'Salary': [50000, 60000, 70000, 55000, 65000],\n",
        "    'Department': ['HR', 'IT', 'Finance', 'HR', 'IT']\n",
        "}\n",
        "df = pd.DataFrame(data)\n",
        "\n",
        "# Converting between NumPy arrays and Pandas DataFrames\n",
        "numpy_array = df[['Age', 'Salary']].values\n",
        "print(\"NumPy array from DataFrame:\\n\", numpy_array)\n",
        "\n",
        "# Using NumPy functions on Pandas data\n",
        "df['Age_normalized'] = (df['Age'] - df['Age'].mean()) / df['Age'].std()\n",
        "df['Salary_log'] = np.log(df['Salary'])\n",
        "print(\"\\nDataFrame with NumPy transformations:\\n\", df[['Name', 'Age', 'Age_normalized', 'Salary', 'Salary_log']])\n",
        "\n",
        "# Mathematical operations combining both libraries\n",
        "correlation_matrix = np.corrcoef(df['Age'], df['Salary'])\n",
        "print(\"\\nCorrelation between Age and Salary:\\n\", correlation_matrix)\n"
      ],
      "metadata": {
        "id": "DNSITkmA-mpg",
        "outputId": "80848d82-bb41-4169-95b1-516fda7c7e96",
        "colab": {
          "base_uri": "https://localhost:8080/"
        }
      },
      "id": "DNSITkmA-mpg",
      "execution_count": 8,
      "outputs": [
        {
          "output_type": "stream",
          "name": "stdout",
          "text": [
            "NumPy array from DataFrame:\n",
            " [[   25 50000]\n",
            " [   30 60000]\n",
            " [   35 70000]\n",
            " [   28 55000]\n",
            " [   32 65000]]\n",
            "\n",
            "DataFrame with NumPy transformations:\n",
            "       Name  Age  Age_normalized  Salary  Salary_log\n",
            "0    Alice   25       -1.313064   50000   10.819778\n",
            "1      Bob   30        0.000000   60000   11.002100\n",
            "2  Charlie   35        1.313064   70000   11.156251\n",
            "3    Diana   28       -0.525226   55000   10.915088\n",
            "4      Eve   32        0.525226   65000   11.082143\n",
            "\n",
            "Correlation between Age and Salary:\n",
            " [[1.         0.99654576]\n",
            " [0.99654576 1.        ]]\n"
          ]
        }
      ]
    }
  ],
  "metadata": {
    "colab": {
      "provenance": [],
      "include_colab_link": true
    },
    "language_info": {
      "name": "python"
    },
    "kernelspec": {
      "name": "python3",
      "display_name": "Python 3"
    }
  },
  "nbformat": 4,
  "nbformat_minor": 5
}