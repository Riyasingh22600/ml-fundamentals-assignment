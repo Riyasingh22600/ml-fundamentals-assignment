{
  "cells": [
    {
      "cell_type": "markdown",
      "metadata": {
        "id": "view-in-github",
        "colab_type": "text"
      },
      "source": [
        "<a href=\"https://colab.research.google.com/github/Riyasingh22600/ml-fundamentals-assignment/blob/main/ch1-2_notes/ch3_numpy_pandas/ch3_numpy_pandas.ipynb\" target=\"_parent\"><img src=\"https://colab.research.google.com/assets/colab-badge.svg\" alt=\"Open In Colab\"/></a>"
      ]
    },
    {
      "cell_type": "markdown",
      "id": "413d392d",
      "metadata": {
        "id": "413d392d"
      },
      "source": [
        "# Chapter 3: NumPy & Pandas\n",
        "\n",
        "---"
      ]
    },
    {
      "cell_type": "markdown",
      "source": [],
      "metadata": {
        "id": "6NzZhgsaU3F2"
      },
      "id": "6NzZhgsaU3F2"
    },
    {
      "cell_type": "markdown",
      "source": [
        "# Chapter 3 – NumPy & Pandas\n",
        "\n",
        "## 3.1 Introduction to NumPy\n",
        "\n"
      ],
      "metadata": {
        "id": "ZOqTBAolU7JL"
      },
      "id": "ZOqTBAolU7JL"
    },
    {
      "cell_type": "code",
      "source": [
        "# --- Install (only in Colab, skip if local Jupyter) ---\n",
        "# !pip install numpy pandas matplotlib seaborn scikit-learn\n",
        "\n",
        "# --- Imports ---\n",
        "import numpy as np\n",
        "import pandas as pd\n",
        "import matplotlib.pyplot as plt\n",
        "\n",
        "# --- Creating arrays ---\n",
        "arr_1d = np.array([1, 2, 3, 4, 5])\n",
        "arr_2d = np.array([[1, 2, 3], [4, 5, 6]])\n",
        "\n",
        "print(\"1D Array:\", arr_1d)\n",
        "print(\"2D Array:\\n\", arr_2d)\n",
        "\n",
        "# --- Array properties ---\n",
        "print(\"Shape of 2D array:\", arr_2d.shape)\n",
        "print(\"Data type:\", arr_1d.dtype)\n",
        "print(\"Number of dimensions:\", arr_2d.ndim)\n",
        "\n",
        "# --- Mathematical operations ---\n",
        "data = np.array([10, 20, 30, 40, 50])\n",
        "print(\"Mean:\", np.mean(data))\n",
        "print(\"Standard deviation:\", np.std(data))\n",
        "print(\"Sum:\", np.sum(data))\n",
        "\n",
        "# --- Array creation functions ---\n",
        "zeros = np.zeros((3, 4))\n",
        "ones = np.ones((2, 3))\n",
        "random_array = np.random.rand(3, 3)\n",
        "\n",
        "print(\"Zeros array:\\n\", zeros)\n",
        "print(\"Ones array:\\n\", ones)\n",
        "print(\"Random array:\\n\", random_array)\n",
        "\n",
        "# --- Array indexing and slicing ---\n",
        "arr = np.array([0, 1, 2, 3, 4, 5, 6, 7, 8, 9])\n",
        "print(\"Elements 2 to 5:\", arr[2:6])\n",
        "print(\"Every second element:\", arr[::2])\n",
        "print(\"Elements greater than 5:\", arr[arr > 5])\n",
        "\n",
        "# --- Matrix operations ---\n",
        "matrix_a = np.array([[1, 2], [3, 4]])\n",
        "matrix_b = np.array([[5, 6], [7, 8]])\n",
        "\n",
        "print(\"Matrix multiplication:\\n\", np.dot(matrix_a, matrix_b))\n",
        "print(\"Element-wise multiplication:\\n\", matrix_a * matrix_b)\n"
      ],
      "metadata": {
        "id": "x9sQpnqqWO1u",
        "outputId": "e7ecfebf-afdc-4be9-8edc-d9dafd895064",
        "colab": {
          "base_uri": "https://localhost:8080/"
        }
      },
      "id": "x9sQpnqqWO1u",
      "execution_count": 3,
      "outputs": [
        {
          "output_type": "stream",
          "name": "stdout",
          "text": [
            "1D Array: [1 2 3 4 5]\n",
            "2D Array:\n",
            " [[1 2 3]\n",
            " [4 5 6]]\n",
            "Shape of 2D array: (2, 3)\n",
            "Data type: int64\n",
            "Number of dimensions: 2\n",
            "Mean: 30.0\n",
            "Standard deviation: 14.142135623730951\n",
            "Sum: 150\n",
            "Zeros array:\n",
            " [[0. 0. 0. 0.]\n",
            " [0. 0. 0. 0.]\n",
            " [0. 0. 0. 0.]]\n",
            "Ones array:\n",
            " [[1. 1. 1.]\n",
            " [1. 1. 1.]]\n",
            "Random array:\n",
            " [[0.99621487 0.64430895 0.62653816]\n",
            " [0.59642431 0.8384977  0.83616148]\n",
            " [0.99698583 0.77255016 0.86161208]]\n",
            "Elements 2 to 5: [2 3 4 5]\n",
            "Every second element: [0 2 4 6 8]\n",
            "Elements greater than 5: [6 7 8 9]\n",
            "Matrix multiplication:\n",
            " [[19 22]\n",
            " [43 50]]\n",
            "Element-wise multiplication:\n",
            " [[ 5 12]\n",
            " [21 32]]\n"
          ]
        }
      ]
    },
    {
      "cell_type": "code",
      "source": [],
      "metadata": {
        "id": "N9jLJLWEWT5D"
      },
      "id": "N9jLJLWEWT5D",
      "execution_count": null,
      "outputs": []
    },
    {
      "cell_type": "markdown",
      "id": "3500176f",
      "metadata": {
        "id": "3500176f"
      },
      "source": [
        "## Objective\n",
        "Describe briefly what this chapter covers."
      ]
    },
    {
      "cell_type": "markdown",
      "id": "3ae8680d",
      "metadata": {
        "id": "3ae8680d"
      },
      "source": [
        "## TODO: Code Examples\n",
        "Paste and run code examples from the PDF here."
      ]
    },
    {
      "cell_type": "markdown",
      "id": "113ca8d9",
      "metadata": {
        "id": "113ca8d9"
      },
      "source": [
        "## Results / Plots\n",
        "Add outputs, figures, or screenshots here."
      ]
    },
    {
      "cell_type": "markdown",
      "id": "f7b27b87",
      "metadata": {
        "id": "f7b27b87"
      },
      "source": [
        "## Insights\n",
        "Write 2–3 bullet points of what you learned."
      ]
    }
  ],
  "metadata": {
    "colab": {
      "provenance": [],
      "include_colab_link": true
    },
    "language_info": {
      "name": "python"
    },
    "kernelspec": {
      "name": "python3",
      "display_name": "Python 3"
    }
  },
  "nbformat": 4,
  "nbformat_minor": 5
}