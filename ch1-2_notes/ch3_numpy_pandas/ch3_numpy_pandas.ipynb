{
 "cells": [
  {
   "cell_type": "markdown",
   "id": "413d392d",
   "metadata": {},
   "source": [
    "# Chapter 3: NumPy & Pandas\n",
    "\n",
    "---"
   ]
  },
  {
   "cell_type": "markdown",
   "id": "3500176f",
   "metadata": {},
   "source": [
    "## Objective\n",
    "Describe briefly what this chapter covers."
   ]
  },
  {
   "cell_type": "markdown",
   "id": "3ae8680d",
   "metadata": {},
   "source": [
    "## TODO: Code Examples\n",
    "Paste and run code examples from the PDF here."
   ]
  },
  {
   "cell_type": "markdown",
   "id": "113ca8d9",
   "metadata": {},
   "source": [
    "## Results / Plots\n",
    "Add outputs, figures, or screenshots here."
   ]
  },
  {
   "cell_type": "markdown",
   "id": "f7b27b87",
   "metadata": {},
   "source": [
    "## Insights\n",
    "Write 2–3 bullet points of what you learned."
   ]
  }
 ],
 "metadata": {},
 "nbformat": 4,
 "nbformat_minor": 5
}
