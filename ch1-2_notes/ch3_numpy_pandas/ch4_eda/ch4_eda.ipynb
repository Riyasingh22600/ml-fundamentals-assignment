{
  "cells": [
    {
      "cell_type": "markdown",
      "metadata": {
        "id": "view-in-github",
        "colab_type": "text"
      },
      "source": [
        "<a href=\"https://colab.research.google.com/github/Riyasingh22600/ml-fundamentals-assignment/blob/main/ch1-2_notes/ch3_numpy_pandas/ch4_eda/ch4_eda.ipynb\" target=\"_parent\"><img src=\"https://colab.research.google.com/assets/colab-badge.svg\" alt=\"Open In Colab\"/></a>"
      ]
    },
    {
      "cell_type": "markdown",
      "id": "e3002ae3",
      "metadata": {
        "id": "e3002ae3"
      },
      "source": [
        "# Chapter 4: Exploratory Data Analysis\n",
        "\n",
        "---"
      ]
    },
    {
      "cell_type": "code",
      "source": [],
      "metadata": {
        "id": "hZRts8ct9VX4"
      },
      "id": "hZRts8ct9VX4",
      "execution_count": null,
      "outputs": []
    },
    {
      "cell_type": "markdown",
      "id": "72f7bff5",
      "metadata": {
        "id": "72f7bff5"
      },
      "source": [
        "## Objective\n",
        "Describe briefly what this chapter covers."
      ]
    },
    {
      "cell_type": "markdown",
      "id": "3b664ef4",
      "metadata": {
        "id": "3b664ef4"
      },
      "source": [
        "## TODO: Code Examples\n",
        "Paste and run code examples from the PDF here."
      ]
    },
    {
      "cell_type": "markdown",
      "id": "b01b2281",
      "metadata": {
        "id": "b01b2281"
      },
      "source": [
        "## Results / Plots\n",
        "Add outputs, figures, or screenshots here."
      ]
    },
    {
      "cell_type": "markdown",
      "id": "7744b26f",
      "metadata": {
        "id": "7744b26f"
      },
      "source": [
        "## Insights\n",
        "Write 2–3 bullet points of what you learned."
      ]
    }
  ],
  "metadata": {
    "colab": {
      "provenance": [],
      "include_colab_link": true
    }
  },
  "nbformat": 4,
  "nbformat_minor": 5
}