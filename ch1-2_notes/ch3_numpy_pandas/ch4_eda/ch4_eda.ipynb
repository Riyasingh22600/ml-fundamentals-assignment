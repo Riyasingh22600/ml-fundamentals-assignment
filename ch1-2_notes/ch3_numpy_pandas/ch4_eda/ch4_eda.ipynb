{
 "cells": [
  {
   "cell_type": "markdown",
   "id": "e3002ae3",
   "metadata": {},
   "source": [
    "# Chapter 4: Exploratory Data Analysis\n",
    "\n",
    "---"
   ]
  },
  {
   "cell_type": "markdown",
   "id": "72f7bff5",
   "metadata": {},
   "source": [
    "## Objective\n",
    "Describe briefly what this chapter covers."
   ]
  },
  {
   "cell_type": "markdown",
   "id": "3b664ef4",
   "metadata": {},
   "source": [
    "## TODO: Code Examples\n",
    "Paste and run code examples from the PDF here."
   ]
  },
  {
   "cell_type": "markdown",
   "id": "b01b2281",
   "metadata": {},
   "source": [
    "## Results / Plots\n",
    "Add outputs, figures, or screenshots here."
   ]
  },
  {
   "cell_type": "markdown",
   "id": "7744b26f",
   "metadata": {},
   "source": [
    "## Insights\n",
    "Write 2–3 bullet points of what you learned."
   ]
  }
 ],
 "metadata": {},
 "nbformat": 4,
 "nbformat_minor": 5
}
