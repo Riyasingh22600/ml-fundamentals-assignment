{
 "cells": [
  {
   "cell_type": "markdown",
   "id": "5b6015dc",
   "metadata": {},
   "source": [
    "# Chapter 1–2: AI & ML Basics + Workflow\n",
    "\n",
    "---"
   ]
  },
  {
   "cell_type": "markdown",
   "id": "d24e5c75",
   "metadata": {},
   "source": [
    "## Objective\n",
    "Describe briefly what this chapter covers."
   ]
  },
  {
   "cell_type": "markdown",
   "id": "088df587",
   "metadata": {},
   "source": [
    "## TODO: Code Examples\n",
    "Paste and run code examples from the PDF here."
   ]
  },
  {
   "cell_type": "markdown",
   "id": "0bf3ffec",
   "metadata": {},
   "source": [
    "## Results / Plots\n",
    "Add outputs, figures, or screenshots here."
   ]
  },
  {
   "cell_type": "markdown",
   "id": "fdab90a8",
   "metadata": {},
   "source": [
    "## Insights\n",
    "Write 2–3 bullet points of what you learned."
   ]
  }
 ],
 "metadata": {},
 "nbformat": 4,
 "nbformat_minor": 5
}
